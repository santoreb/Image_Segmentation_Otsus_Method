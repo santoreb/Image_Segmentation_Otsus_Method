{
  "nbformat": 4,
  "nbformat_minor": 0,
  "metadata": {
    "colab": {
      "provenance": [],
      "gpuType": "T4",
      "authorship_tag": "ABX9TyOu+X/bBsaDz8FG4hydnFLt",
      "include_colab_link": true
    },
    "kernelspec": {
      "name": "python3",
      "display_name": "Python 3"
    },
    "language_info": {
      "name": "python"
    },
    "accelerator": "GPU"
  },
  "cells": [
    {
      "cell_type": "markdown",
      "metadata": {
        "id": "view-in-github",
        "colab_type": "text"
      },
      "source": [
        "<a href=\"https://colab.research.google.com/github/santoreb/Image_Segmentation_Otsus_Method/blob/main/Otsus_Method.ipynb\" target=\"_parent\"><img src=\"https://colab.research.google.com/assets/colab-badge.svg\" alt=\"Open In Colab\"/></a>"
      ]
    },
    {
      "cell_type": "code",
      "execution_count": null,
      "metadata": {
        "colab": {
          "base_uri": "https://localhost:8080/"
        },
        "id": "EI5-3UVAvngK",
        "outputId": "6ed1207e-a1c1-4db1-e1c6-f16c86d2d676"
      },
      "outputs": [
        {
          "output_type": "stream",
          "name": "stdout",
          "text": [
            "Dataset MNIST\n",
            "    Number of datapoints: 60000\n",
            "    Root location: data\n",
            "    Split: Train\n",
            "    StandardTransform\n",
            "Transform: ToTensor()\n",
            "torch.Size([60000, 28, 28])\n",
            "torch.Size([60000])\n"
          ]
        }
      ],
      "source": [
        "import torch\n",
        "from torchvision import datasets\n",
        "from torchvision.transforms import ToTensor\n",
        "import matplotlib.pyplot as plt\n",
        "\n",
        "train_data = datasets.MNIST(root = 'data', train = True, transform = ToTensor(), download = True)\n",
        "# test_data = datasets.MNIST(root = 'data', train = False, transform = ToTensor(), download = True)\n",
        "\n",
        "newsegmented_data = []\n",
        "\n",
        "print(train_data)\n",
        "print(train_data.data.size())\n",
        "print(train_data.targets.size())"
      ]
    },
    {
      "cell_type": "code",
      "source": [
        "fig, axs = plt.subplots(1, 2)\n",
        "for i in range(2):\n",
        "    axs[i].imshow(train_data.data[i],cmap='gray')\n",
        "    axs[i].set_title(f\"Label: {train_data.targets[i]}\")\n",
        "    axs[i].axis('off')\n",
        "\n",
        "plt.show()"
      ],
      "metadata": {
        "colab": {
          "base_uri": "https://localhost:8080/",
          "height": 284
        },
        "id": "iIgs0qKtwRtd",
        "outputId": "d53f37aa-7edb-4150-8c90-7b6bc5692c96"
      },
      "execution_count": 27,
      "outputs": [
        {
          "output_type": "display_data",
          "data": {
            "text/plain": [
              "<Figure size 640x480 with 2 Axes>"
            ],
            "image/png": "[encoded data removed]"
          },
          "metadata": {}
        }
      ]
    },
    {
      "cell_type": "code",
      "source": [
        "for image in train_data.data:\n",
        "  size = image.size()[0]*image.size()[0]\n",
        "  unique, count = image.unique(return_counts=True)\n",
        "  unique = unique[:-1]\n",
        "  count = count[:-1]\n",
        "  w = count/size\n",
        "  wk = torch.cumsum(w,axis=0)\n",
        "  mu = unique*w\n",
        "  mut = mu.sum()\n",
        "  muk = torch.cumsum(mu,axis=0)\n",
        "  sigmak = (mut*wk - muk)**2/(wk*(1-wk))\n",
        "  newimage = image.clone()\n",
        "  newimage[newimage>=unique[sigmak.argmax()]] = 1\n",
        "  newimage[newimage!=1] = 0\n",
        "  newsegmented_data.append(newimage)"
      ],
      "metadata": {
        "id": "xbylA9oS0ruZ"
      },
      "execution_count": null,
      "outputs": []
    },
    {
      "cell_type": "code",
      "source": [
        "fig, axs = plt.subplots(2, 2)\n",
        "for row, original, segmented in zip(range(2), train_data.data[:2], newsegmented_data[:2]):\n",
        "  print(row)\n",
        "  axs[row,0].imshow(original,cmap = 'gray')\n",
        "  axs[row,0].set_title('Original')\n",
        "  axs[row,0].axis('off')\n",
        "  axs[row,1].imshow(segmented,cmap = 'gray')\n",
        "  axs[row,1].set_title('Otsu\\'s Algorithm')\n",
        "  axs[row,1].axis('off')\n",
        "plt.show()"
      ],
      "metadata": {
        "colab": {
          "base_uri": "https://localhost:8080/",
          "height": 464
        },
        "id": "ExV_RzdEWXV3",
        "outputId": "5a2b0307-4136-4015-ddbe-f5142dac390e"
      },
      "execution_count": null,
      "outputs": [
        {
          "output_type": "stream",
          "name": "stdout",
          "text": [
            "0\n",
            "1\n"
          ]
        },
        {
          "output_type": "display_data",
          "data": {
            "text/plain": [
              "<Figure size 640x480 with 4 Axes>"
            ],
            "image/png": "[encoded data removed]"
          },
          "metadata": {}
        }
      ]
    }
  ]
}